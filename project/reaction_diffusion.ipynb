{
 "cells": [
  {
   "cell_type": "code",
   "execution_count": 1,
   "id": "c61587bf",
   "metadata": {},
   "outputs": [],
   "source": [
    "import numpy as np\n",
    "import matplotlib.pyplot as plt\n",
    "from matplotlib import animation\n",
    "from scipy.signal import convolve2d"
   ]
  },
  {
   "cell_type": "markdown",
   "id": "e1bd6159",
   "metadata": {},
   "source": [
    "my stuff"
   ]
  },
  {
   "cell_type": "code",
   "execution_count": 6,
   "id": "1b39ed92",
   "metadata": {},
   "outputs": [],
   "source": [
    "def prey_reaction(prey, predator, Diffusion_prey_rate, feed, kernel, delta_t):\n",
    "    return prey + (Diffusion_prey_rate * convolve2d(prey, kernel, mode=\"same\", boundary = \"wrap\") - prey * predator ** 2 + feed * (1-prey)) * delta_t #\n",
    "\n",
    "def predator_reaction(prey, predator, Diffusion_predator_rate, kill, feed, kernel, delta_t):\n",
    "    return predator + (Diffusion_predator_rate * convolve2d(predator, kernel, mode=\"same\", boundary = \"wrap\") + prey * predator ** 2 - (kill + feed) * predator) * delta_t  #\n",
    "\n",
    "\n",
    "\n",
    "    # prey_anim = prey_reaction\n",
    "    # ax.imshow(prey_reaction, cmap='jet')"
   ]
  },
  {
   "cell_type": "code",
   "execution_count": 27,
   "id": "3450bfad",
   "metadata": {},
   "outputs": [],
   "source": [
    "class two_d_RD():\n",
    "    def __init__(self,width,height,Diffusion_prey_rate,Diffusion_predator_rate, kernel, feed, kill, delta_t, number_of_delta_t_iterations, number_of_frames):\n",
    "        self.width = width\n",
    "        self.height = height\n",
    "        self.Dprey = Diffusion_prey_rate\n",
    "        self.Dpredator = Diffusion_predator_rate\n",
    "        self.kernel = kernel\n",
    "        self.feed = feed\n",
    "        self.kill = kill\n",
    "        self.delta_t = delta_t\n",
    "        self.number_of_delta_t_iterations = number_of_delta_t_iterations\n",
    "        self.number_of_frames = number_of_frames\n",
    "        self.time = 0\n",
    "\n",
    "        self.prey_grid = np.ones((height,width)) \n",
    "        self.predator_grid = np.zeros((height, width))\n",
    "        \n",
    "        num_of_predators = height * width * 0.02\n",
    "        for i in range(int(num_of_predators)):\n",
    "            self.predator_grid[np.random.randint(height),np.random.randint(width)] = 1\n",
    "\n",
    "    @staticmethod\n",
    "    def prey_reaction(prey, predator, Diffusion_prey_rate, feed, kernel, delta_t):\n",
    "        return prey + (Diffusion_prey_rate * convolve2d(prey, kernel, mode=\"same\", boundary = \"wrap\") - prey * predator ** 2 + feed * (1-prey)) * delta_t \n",
    "    \n",
    "    @staticmethod\n",
    "    def predator_reaction(prey, predator, Diffusion_predator_rate, kill, feed, kernel, delta_t):\n",
    "        return predator + (Diffusion_predator_rate * convolve2d(predator, kernel, mode=\"same\", boundary = \"wrap\") + prey * predator ** 2 - (kill + feed) * predator) * delta_t \n",
    "    \n",
    "    def update_grid(self):\n",
    "        for _ in range(self.number_of_delta_t_iterations):\n",
    "\n",
    "            prey_grid_new = self.prey_reaction(self.prey_grid, self.predator_grid, self.Dprey, self.feed, self.kernel, self.delta_t)\n",
    "            predator_grid_new = self.predator_reaction(self.prey_grid, self.predator_grid, self.Dpredator, self.kill, self.feed, self.kernel, self.delta_t)\n",
    "\n",
    "            self.prey_grid = prey_grid_new\n",
    "            self.predator_grid = predator_grid_new \n",
    "\n",
    "            self.time += self.delta_t\n",
    "    \n",
    "\n",
    "    def plot_animation(self):\n",
    "\n",
    "        fig, ax = plt.subplots()\n",
    "\n",
    "        def step_animation(t):\n",
    "            self.update_grid()\n",
    "            ax.clear()\n",
    "            ax.imshow(self.prey_grid , cmap='jet')\n",
    "            ax.set_title(\"t = {:.2f}\".format(self.time))\n",
    "        \n",
    "        anim = animation.FuncAnimation(fig, step_animation, frames=np.arange(self.number_of_frames), interval=20)\n",
    "        anim.save(\"2d_RD.gif\", writer='pillow')\n",
    "        # plt.show(anim)\n",
    "    \n",
    "\n"
   ]
  },
  {
   "cell_type": "code",
   "execution_count": 28,
   "id": "6b1392f3",
   "metadata": {},
   "outputs": [],
   "source": [
    "width, height  =  50, 50\n",
    "# prey_grid = abs(np.random.rand(width, height)) #prey cells\n",
    "prey_grid = np.ones((height,width)) \n",
    "# predator_grid = abs(np.random.rand(width, height))#np.zeros((width, height)) #predator cells\n",
    "predator_grid = np.zeros((height,width))\n",
    "num_of_predators = height * width * 0.02\n",
    "# np.random.randint(5, size=(2, 4))\n",
    "for i in range(int(num_of_predators)):\n",
    "    predator_grid[np.random.randint(height),np.random.randint(width)] = 1\n",
    "\n",
    "\n",
    "\n",
    "Diffusion_prey_rate = 1\n",
    "Diffusion_predator_rate = 0.5\n",
    "kernel = [[0.05,0.2,0.05],\n",
    "          [0.2,-1,0.2],\n",
    "          [0.05,0.2,0.05]]\n",
    "feed = 0.055\n",
    "kill = 0.062\n",
    "\n",
    "delta_t = 1e-3\n",
    "number_of_delta_t_iterations = int(1e2) \n",
    "number_of_steps = 150\n",
    "\n",
    "time = 0\n"
   ]
  },
  {
   "cell_type": "code",
   "execution_count": 29,
   "id": "fe29da37",
   "metadata": {},
   "outputs": [
    {
     "data": {
      "image/png": "[encoded data removed]",
      "text/plain": [
       "<Figure size 640x480 with 1 Axes>"
      ]
     },
     "metadata": {},
     "output_type": "display_data"
    }
   ],
   "source": [
    "RD = two_d_RD(width, height, Diffusion_prey_rate, Diffusion_predator_rate,kernel,feed, kill, delta_t, number_of_delta_t_iterations, number_of_steps)\n",
    "RD.plot_animation()"
   ]
  }
 ],
 "metadata": {
  "kernelspec": {
   "display_name": "base",
   "language": "python",
   "name": "python3"
  },
  "language_info": {
   "codemirror_mode": {
    "name": "ipython",
    "version": 3
   },
   "file_extension": ".py",
   "mimetype": "text/x-python",
   "name": "python",
   "nbconvert_exporter": "python",
   "pygments_lexer": "ipython3",
   "version": "3.11.5"
  }
 },
 "nbformat": 4,
 "nbformat_minor": 5
}
